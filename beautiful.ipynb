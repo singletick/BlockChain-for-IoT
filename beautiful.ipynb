{
 "cells": [
  {
   "cell_type": "code",
   "execution_count": 2,
   "metadata": {
    "scrolled": true
   },
   "outputs": [],
   "source": [
    "from Crypto.PublicKey import RSA\n",
    "from Crypto.Hash import SHA\n",
    "from Crypto.Signature import PKCS1_v1_5\n",
    "from datetime import datetime as DT\n",
    "import hmac\n",
    "from Crypto.Cipher import AES\n",
    "from merklelib import MerkleTree\n",
    "import warnings\n",
    "warnings.filterwarnings(\"ignore\")"
   ]
  },
  {
   "cell_type": "code",
   "execution_count": 3,
   "metadata": {
    "scrolled": true
   },
   "outputs": [],
   "source": [
    "class device():\n",
    "    deviceCount = 0\n",
    "    \n",
    "    def __init__(self):\n",
    "        self.id = device.deviceCount\n",
    "        self.keyPair,self.pk,self.__sk= self.getKeys()\n",
    "        \n",
    "        self.idProof = {}\n",
    "        self.idProof['public_KEY'] = self.pk\n",
    "        self.idProof['block_no'] = None\n",
    "        self.idProof['block_hash'] = None\n",
    "        self.idProof['difficulty'] = None\n",
    "        self.idProof['txn_Index'] = None\n",
    "        self.idProof['Node_ID'] = None\n",
    "        self.idProof['okToSend'] = None\n",
    "        self.idProof['okToRecieve'] = None\n",
    "        \n",
    "        data=str(self.id)+self.pk\n",
    "        self.address=SHA.new(data.encode()).hexdigest()\n",
    "        device.deviceCount += 1\n",
    "    \n",
    "    def getKeys(self):\n",
    "        keypair=RSA.generate(1024)\n",
    "        sk = keypair.exportKey('DER')\n",
    "        pk = keypair.publickey().exportKey('DER')\n",
    "        return keypair,pk.hex(),sk.hex()\n",
    "    \n",
    "    def getDeviceDetails(self):\n",
    "        print(\"deviceID: \"+str(self.id),\"publicKEY:\",self.pk,\"deviceADDRESS:\",self.address,sep=\"\\n\",end=\"\\n\\n\")\n",
    "        \n",
    "    @classmethod\n",
    "    def transact(self, S,R,amt):\n",
    "        '''\n",
    "        S: Sender object\n",
    "        R: Receiver object\n",
    "        amt: Amount to transfer\n",
    "        \n",
    "        if verified, returns a list of dictionaries; dict: {\"Sender\":S,\"Receiver\":R,\"Amount\":amt}\n",
    "        or else returns []\n",
    "        '''\n",
    "        Txn= S.address+R.address+amt\n",
    "        \n",
    "        sign,verified = device.signVerify(Txn,S.keyPair)\n",
    "        if(verified):\n",
    "            print(\"Transaction is verified\")\n",
    "            return [{\"Sender\":S,\"Receiver\":R,\"Amount\":amt,\"sign\":sign}]\n",
    "        else:\n",
    "            invalidTxns.append({\"Sender\":dList[S],\"Receiver\":dList[R],\"Amount\":amt,\"status\":\"TxnNotVerified\"})\n",
    "            print(\"Fraudulent transaction\")\n",
    "            return []\n",
    "    \n",
    "    @classmethod\n",
    "    def dataTransfer(self,S,R,msg,dtKEY):\n",
    "        \"\"\"\n",
    "        Returns [ verified, cipherText, success/failure ]\n",
    "        \"\"\"\n",
    "        if(len(msg)%16!=0):\n",
    "            pad=16-len(msg)%16\n",
    "            msg=msg.zfill(pad+len(msg))\n",
    "        \n",
    "        sF,rF=device.checkID(S,R)\n",
    "        secret=AES.new(dtKEY)\n",
    "        cipherTxt=secret.encrypt(msg).hex()\n",
    "        \n",
    "        if(not sF):\n",
    "            print(\"Sender ID is not verified\")\n",
    "            return [sF,cipherTxt,\"SenderNotVerified\"]\n",
    "        if(not rF):\n",
    "            print(\"Receiver ID is not verified\")\n",
    "            return [rF,cipherTxt,\"ReceiverNotVerified\"]\n",
    "        \n",
    "        sign,verified=device.signVerify(cipherTxt,S.keyPair)\n",
    "        \n",
    "        if(verified):\n",
    "            return [verified,cipherTxt,sign]\n",
    "        else:\n",
    "            return [verified,cipherTxt,\"Fraudulent transaction\"]\n",
    "        \n",
    "    @classmethod\n",
    "    def checkID(self, S, R):\n",
    "        SID=S.idProof\n",
    "        RID=R.idProof\n",
    "        sF,rF=True,True    #F-> flag\n",
    "        \n",
    "        if(None in SID.values()):\n",
    "            sF=False\n",
    "        if(None in RID.values()):\n",
    "            rF=False\n",
    "        \n",
    "        return (sF,rF)\n",
    "        \n",
    "    \n",
    "    @classmethod\n",
    "    def signVerify(self,txn, sk):\n",
    "        txn=str(txn)\n",
    "        msg=SHA.new(txn.encode())\n",
    "        author=PKCS1_v1_5.new(sk)\n",
    "        signature = author.sign(msg)\n",
    "        verified=author.verify(msg,signature)\n",
    "        return signature,verified\n",
    "    \n",
    "\n",
    "    \n",
    "    def __del__(self):\n",
    "        print(\"Device:\",self.id,\"deleted\")\n",
    "        device.deviceCount-=1"
   ]
  },
  {
   "cell_type": "code",
   "execution_count": 4,
   "metadata": {
    "scrolled": true
   },
   "outputs": [],
   "source": [
    "class block:\n",
    "    blockCount=0\n",
    "    \n",
    "    def __init__(self,pH,txnList,PoW,mR):\n",
    "        self.blockNo=block.blockCount\n",
    "        block.blockCount+=1\n",
    "        \n",
    "        self.prevHash=pH\n",
    "        self.transactions=txnList\n",
    "        self.timestamp=DT.timestamp(DT.now())\n",
    "        self.hash=PoW['Hash']\n",
    "        self.nonce=PoW['nonce']\n",
    "        self.mRoot=mR\n",
    "    \n",
    "    def getBlockDetails(self):\n",
    "        print(\"Block#:\",self.blockNo)\n",
    "        print(\"previous HASH:\",self.prevHash)\n",
    "        print(\"current HASH:\",self.hash)\n",
    "        print()\n",
    "        \n",
    "        print(\"Transactions:\",len(self.transactions),\"     Time:\",DT.fromtimestamp(self.timestamp))\n",
    "        for T in self.transactions:\n",
    "            print(\"Sender:\",T['Sender'].id, end=\",  \")\n",
    "            print(\"Receiver:\",T['Receiver'].id, end=\",  \")\n",
    "            print(\"Amount:\",T['Amount'])\n",
    "        \n",
    "        print(\"Merkley Root:\",self.mRoot)\n",
    "        print(\"\\nNONCE:\",self.nonce)"
   ]
  },
  {
   "cell_type": "code",
   "execution_count": 5,
   "metadata": {
    "scrolled": true
   },
   "outputs": [],
   "source": [
    "def HF(data):\n",
    "    data=data.hex()\n",
    "    print(data)\n",
    "    return SHA.new(data.encode()).hexdigest()"
   ]
  },
  {
   "cell_type": "code",
   "execution_count": 6,
   "metadata": {
    "scrolled": true
   },
   "outputs": [],
   "source": [
    "class blockChain:\n",
    "    \n",
    "    def __init__(self,H):\n",
    "        self.chain=[]\n",
    "        self.allTxns={}\n",
    "        self.Tcount=1\n",
    "\n",
    "        pH='0'\n",
    "        PoW={}\n",
    "        txn=[{\"Sender\":H,\"Receiver\":H,\"Amount\":0}]\n",
    "        PoW['Hash'],PoW['nonce']=self.PoW(pH,txn)\n",
    "        mR=SHA.new(str(txn).encode()).hexdigest()\n",
    "        txID = str(1)\n",
    "        diff=3\n",
    "        H.idProof['block_no'] = len(self.chain)\n",
    "        H.idProof['block_hash'] = PoW['Hash']\n",
    "        H.idProof['difficulty'] = diff\n",
    "        H.idProof['txn_Index'] = txID\n",
    "        pk=H.pk.encode()\n",
    "        key=hmac.HMAC(pk)\n",
    "        H.idProof['Node_ID'] = hmac.HMAC(key.digest(),txID.encode()).hexdigest()\n",
    "        H.idProof['okToSend'] = '0'\n",
    "        H.idProof['okToRecieve'] = '0'\n",
    "        \n",
    "        BLOC=block(pH,txn,PoW,mR)\n",
    "        self.chain.append(BLOC)\n",
    "        \n",
    "        \n",
    "    def newBlock(self,txn):\n",
    "        if(txn==[]):\n",
    "            return\n",
    "        \n",
    "        Tno=\"Txn-\"+str(self.Tcount)\n",
    "        self.allTxns[Tno]=txn[0]\n",
    "        self.Tcount+=1\n",
    "        pH=self.chain[-1].hash\n",
    "        PoW={}\n",
    "        PoW['Hash'],PoW['nonce']=self.PoW(pH,txn)\n",
    "        mT=MerkleTree(txn, HF)\n",
    "        mR=mT.merkle_root\n",
    "        #ID PROOF GENERATION\n",
    "        S = txn[0]['Sender']\n",
    "        txID = str(1)\n",
    "        diff=3\n",
    "        S.idProof['block_no'] = len(self.chain)\n",
    "        S.idProof['block_hash'] = PoW['Hash']\n",
    "        S.idProof['difficulty'] = diff\n",
    "        S.idProof['txn_Index'] = txID\n",
    "        pk=S.pk.encode()\n",
    "        key=hmac.HMAC(pk)\n",
    "        S.idProof['Node_ID'] = hmac.HMAC(key.digest(),txID.encode()).hexdigest()\n",
    "        S.idProof['okToSend'] = '0'\n",
    "        S.idProof['okToRecieve'] = '0'\n",
    "        \n",
    "        BLOC=block(pH,txn,PoW,mR)\n",
    "        self.chain.append(BLOC)\n",
    "        \n",
    "    def addNewBlock(self,txnList):\n",
    "        if(txnList==[]):\n",
    "            return\n",
    "        \n",
    "        for T in txnList:\n",
    "            Tno=\"Txn-\"+str(self.Tcount)\n",
    "            self.allTxns[Tno]=T\n",
    "            self.Tcount+=1\n",
    "            \n",
    "        pH=self.chain[-1].hash\n",
    "        PoW={}\n",
    "        PoW['Hash'],PoW['nonce']=self.PoW(pH,txnList)        \n",
    "        mT = MerkleTree(txnList)\n",
    "        mR=mT.merkle_root\n",
    "        BLOC=block(pH,txnList,PoW,mR)\n",
    "        self.chain.append(BLOC)\n",
    "        \n",
    "    def PoW(self,pH,txn,diff=4):\n",
    "        nonce=0\n",
    "        data=pH+str(txn)+str(nonce)\n",
    "        nH=SHA.new(data.encode()).hexdigest()\n",
    "        while nH[:diff] != '0'*diff:\n",
    "            nonce += 1\n",
    "            data=pH+str(txn)+str(nonce)\n",
    "            nH=SHA.new(data.encode()).hexdigest()\n",
    "        return nH,nonce\n",
    "    \n",
    "    def getChainDetails(self):\n",
    "        for D in self.chain:\n",
    "            D.getBlockDetails()\n",
    "            print(\"----------------------------------------------------\")"
   ]
  },
  {
   "cell_type": "code",
   "execution_count": 7,
   "metadata": {
    "scrolled": false
   },
   "outputs": [
    {
     "name": "stdout",
     "output_type": "stream",
     "text": [
      "Enter no.of IoT devices:3\n",
      "press 'Y' to show device details, any other key to skip:3\n",
      "Sender#:   Receiver#:   Amount:1 0 0\n",
      "Transaction is verified\n",
      "007b2753656e646572273a203c5f5f6d61696e5f5f2e646576696365206f626a656374206174203078303030303032353038453935453945383e2c20275265636569766572273a203c5f5f6d61696e5f5f2e646576696365206f626a656374206174203078303030303032353038453934353234303e2c2027416d6f756e74273a202730272c20277369676e273a2062272c5c7864665c7839655c7861662a575c786634366a5c7863625c7863345c7830385c7861345c7839655c7831345c7830652f735c7865623b375c7839635c786634375c7861305c7830384a5c7866625c7861655c786633315c786264565c786662395c7863625c7862645c7863335c7830375c7865335c786364325c7865655c7862384e457c4d5c7839357a4f5c7866345c7838355c7864325c7839325c78383964285c7864342b295c7862365c786465585c7831635c7861395c7839615c7864642f5c7830325c5c634d5a5c7862395c786634225c7830315c783937287b22565b5c7862315c7865345c7838365c7839645c783931705c783161425c7838302f5c783134587826587a325c7838376d65295c7865385c786266725c7865385c7864663c395c7863655c7863345c7831635c7862612f5c7838625c7831365c7861625c783963682e505c786239395c7863615c783933277d\n",
      "Sender#:   Receiver#:   Amount:2 0 0\n",
      "Transaction is verified\n",
      "007b2753656e646572273a203c5f5f6d61696e5f5f2e646576696365206f626a656374206174203078303030303032353038453935454343303e2c20275265636569766572273a203c5f5f6d61696e5f5f2e646576696365206f626a656374206174203078303030303032353038453934353234303e2c2027416d6f756e74273a202730272c20277369676e273a206227245e5c7864645c7830343c73575c7831615c783030375c7866646975465c7830375c7864375c7864645c7831385c7861635c7862345c7866655c786635435c7866645c722b5c7862305c7838315c7830365c7864305c7839617b5c7838655c786539246f313d5c7830315c7830385c7862335c7839385c7861665c7863625c786130355c786363515c7861375c7839395c7866395f482c5c783934525c7863655c786364265c5c69765c786334355c783030325c7862394f5c7839345c7830356a512b40755c7838616b5c7830365c7861305c7865343a5d465c7864653e365c7861395c7866372a5c7830305c783162675c7862354a5c7861395c783130645c783930255c7864325c786436495c783931255c7839625c7830625c7864375c7863615c7861325c783835294972555c7866375c7838335c786433475c7863625c7830365c783830485c7831665c5c5c7864385c7865302e5c786130277d\n"
     ]
    }
   ],
   "source": [
    "dtKEY=\"sixteen--SIXTEEN\"\n",
    "N=int(input(\"Enter no.of IoT devices:\"))\n",
    "\n",
    "\n",
    "dList=[device() for i in range(N)]\n",
    "\n",
    "show=input(\"press \\'Y' to show device details, any other key to skip:\")\n",
    "if(show in ['Y','y']):\n",
    "    for i in dList:\n",
    "        i.getDeviceDetails()\n",
    "\n",
    "#BLOCKCHAIN creati0n\n",
    "myChain=blockChain(dList[0])\n",
    "# myChain.getChainDetails()\n",
    "for i in range(1,N):\n",
    "    Txn = input(\"Sender#:   Receiver#:   Amount:\").strip().split()\n",
    "    S,R = [int(x) for x in Txn[:2]]\n",
    "    amt=Txn[-1]\n",
    "    if(0<S<N and R==0):\n",
    "        oneTxnList=device.transact(dList[S],dList[R],amt)\n",
    "        myChain.newBlock(oneTxnList)\n",
    "        continue\n",
    "    if(S>=N):\n",
    "        S,R,error=str(S),str(R),\"SenderNotFound\"\n",
    "        print(\"Sender not found\")\n",
    "    elif(S==0):\n",
    "        S,R,error=dList[S],str(R),\"invalidSender\"\n",
    "        print(\"Invalid Sender\")\n",
    "    elif(R != 0 and R<N):\n",
    "        S,R,error=dList[S],dList[R],\"invalid Receiver\"\n",
    "        print(\"invalid Receiver\")\n",
    "    else:\n",
    "        S,R,error=dList[S],str(R),\"ReceiverNotFound\"\n",
    "        print(\"Receiver not found\")\n",
    "    invalidTxns.append({\"Sender\":S,\"Receiver\":R,\"Amount\":amt,\"status\":error})"
   ]
  },
  {
   "cell_type": "code",
   "execution_count": 8,
   "metadata": {
    "scrolled": true
   },
   "outputs": [],
   "source": [
    "invalidTxns=[]"
   ]
  },
  {
   "cell_type": "markdown",
   "metadata": {},
   "source": [
    "### Displaying each block"
   ]
  },
  {
   "cell_type": "code",
   "execution_count": 9,
   "metadata": {
    "scrolled": false
   },
   "outputs": [
    {
     "name": "stdout",
     "output_type": "stream",
     "text": [
      "Block#: 0\n",
      "previous HASH: 0\n",
      "current HASH: 0000b7d691ee2b111d1b233f6e677c46938031ad\n",
      "\n",
      "Transactions: 1      Time: 2019-12-02 16:03:10.895364\n",
      "Sender: 0,  Receiver: 0,  Amount: 0\n",
      "Merkley Root: 7824a688fcd700968442056867e6082c6eb397b5\n",
      "\n",
      "NONCE: 181389\n",
      "----------------------------------------------------\n",
      "Block#: 1\n",
      "previous HASH: 0000b7d691ee2b111d1b233f6e677c46938031ad\n",
      "current HASH: 00003a15e0bb60f6202c797697b055419bc24c22\n",
      "\n",
      "Transactions: 1      Time: 2019-12-02 16:03:13.271704\n",
      "Sender: 1,  Receiver: 0,  Amount: 0\n",
      "Merkley Root: 57a87074178f47b130ec1c639a11db2a8a369d12\n",
      "\n",
      "NONCE: 86538\n",
      "----------------------------------------------------\n",
      "Block#: 2\n",
      "previous HASH: 00003a15e0bb60f6202c797697b055419bc24c22\n",
      "current HASH: 00003d8cbb74f7525c8d35d6d3cc0d66e9ae926f\n",
      "\n",
      "Transactions: 1      Time: 2019-12-02 16:03:14.642612\n",
      "Sender: 2,  Receiver: 0,  Amount: 0\n",
      "Merkley Root: 3bd647ab7ecd0f6a232307bd7d94a2dcfea48c59\n",
      "\n",
      "NONCE: 16807\n",
      "----------------------------------------------------\n"
     ]
    }
   ],
   "source": [
    "myChain.getChainDetails()"
   ]
  },
  {
   "cell_type": "markdown",
   "metadata": {},
   "source": [
    "### All transactions"
   ]
  },
  {
   "cell_type": "code",
   "execution_count": 10,
   "metadata": {
    "scrolled": true
   },
   "outputs": [
    {
     "name": "stdout",
     "output_type": "stream",
     "text": [
      "Txn-1 : Sender: 3fd1c72fbc242f86d457    Receiver: 3269f5c61949f35e7f69    Amount: 0    Sign: 2cdf9eaf2a57f43\n",
      "Txn-2 : Sender: 3dc3261eb437d426f061    Receiver: 3269f5c61949f35e7f69    Amount: 0    Sign: 245edd043c73571\n"
     ]
    }
   ],
   "source": [
    "for k,v in myChain.allTxns.items():\n",
    "    print(k,\": Sender:\",v[\"Sender\"].address[:20], \"   Receiver:\",v[\"Receiver\"].address[:20],   \"   Amount:\",v['Amount'],  \"   Sign:\",v[\"sign\"].hex()[:15]   )        "
   ]
  },
  {
   "cell_type": "markdown",
   "metadata": {},
   "source": [
    "### Displaying ID Proof"
   ]
  },
  {
   "cell_type": "code",
   "execution_count": 11,
   "metadata": {
    "scrolled": false
   },
   "outputs": [
    {
     "name": "stdout",
     "output_type": "stream",
     "text": [
      "Device: 0\n",
      "public_KEY: 30819f300d06092a864886f70d010101050003818d0030818902818100b1db7040271602221baa078b6639e4e074fb67dfc4efe841b1ea7e8193d7d818523647b1246e386497267921e48a7045f3b21506736299db807bb8d068d84abaeae1f0980009c1e0ce3eb79ec6299f46b3b8d74c72e7614de27b90610c047d577d2c3c7ef282e69df3483d9d4d4dbc3f0329395a5a0de06574cdea0651aeb18d0203010001\n",
      "block_no: 0\n",
      "block_hash: 0000b7d691ee2b111d1b233f6e677c46938031ad\n",
      "difficulty: 3\n",
      "txn_Index: 1\n",
      "Node_ID: b1c633cf1c1324bfa223346b564500e8\n",
      "okToSend: 0\n",
      "okToRecieve: 0\n",
      "\n",
      "Device: 1\n",
      "public_KEY: 30819f300d06092a864886f70d010101050003818d0030818902818100a278bbf035eb775fd623dfdef71244e4e9d9a76e767df7e2ff7cf0f63a554cd7788eee68963d2bbe82ddfa1b0299e74641135323b6e0e8b29e12d71d9d6b91e59322bc4f670a0cc3f241ea89b521e66612e8471c69c277c34b5b6593241dd67b3434563fbb05c8fb9fad33774b2240d174215a840feec7e5ca482a4cdb6c60290203010001\n",
      "block_no: 1\n",
      "block_hash: 00003a15e0bb60f6202c797697b055419bc24c22\n",
      "difficulty: 3\n",
      "txn_Index: 1\n",
      "Node_ID: 05759375997cb79f86eaf2f5be754fbe\n",
      "okToSend: 0\n",
      "okToRecieve: 0\n",
      "\n",
      "Device: 2\n",
      "public_KEY: 30819f300d06092a864886f70d010101050003818d0030818902818100c09923aba89ec120bc08d6d7e5efbd1534e8e489c200ffd359a9d7375ef6004ce9b24fb8c05c7fd8b09dfcab3aef7e1f33153f747ef296b3101c36b00ca04406f215011ad841015c331b2078040a4f132b3898058125d557938db33197cfb6edebcf0d490ad3e41ae5ba4031aab91c777b17dce15c3b292e2e4e3e1cb1de011d0203010001\n",
      "block_no: 2\n",
      "block_hash: 00003d8cbb74f7525c8d35d6d3cc0d66e9ae926f\n",
      "difficulty: 3\n",
      "txn_Index: 1\n",
      "Node_ID: 73e88e8d3e550cf0248022fa4957029f\n",
      "okToSend: 0\n",
      "okToRecieve: 0\n",
      "\n"
     ]
    }
   ],
   "source": [
    "for D in dList:\n",
    "    print(\"Device:\",D.id)\n",
    "    for k,v in D.idProof.items():\n",
    "        print(k+\":\",v)\n",
    "    print()"
   ]
  },
  {
   "cell_type": "markdown",
   "metadata": {},
   "source": [
    "## Data Transfer"
   ]
  },
  {
   "cell_type": "code",
   "execution_count": 12,
   "metadata": {},
   "outputs": [],
   "source": [
    "def performTransactions(bc,dList,I):\n",
    "    V=[]\n",
    "    while(1):\n",
    "        cmd=input(\"Press N to send new data, any other key to stop sending:\")\n",
    "        if(cmd in ['N','n']):\n",
    "\n",
    "            S=int(input(\"Enter Sender's id:\"))\n",
    "            R=int(input(\"Enter Receiver's id:\"))\n",
    "            msg=input(\"Enter data to be sent:\")\n",
    "\n",
    "            if(S>=len(dList) or S<0):\n",
    "                I.append({\"Sender\":str(S),\"Receiver\":str(R),\"Amount\":msg,\"status\":\"inValidSender\"})\n",
    "                print(\"invalid sender\")\n",
    "                continue\n",
    "            if(R>=len(dList) or R<0):\n",
    "                I.append({\"Sender\":str(S),\"Receiver\":str(R),\"Amount\":msg,\"status\":\"inValidReceiver\"})\n",
    "                print(\"invalid Receiver\")\n",
    "                continue\n",
    "\n",
    "            data=device.dataTransfer(dList[S],dList[R],msg,dtKEY)\n",
    "            if(data[0]):\n",
    "                V.append({\"Sender\":dList[S],\"Receiver\":dList[R],\"Amount\":data[1],\"sign\":data[2]})\n",
    "                print(\"SUCCESSFUL\\n\")\n",
    "            else:\n",
    "                I.append({\"Sender\":dList[S],\"Receiver\":dList[R],\"Amount\":data[1],\"status\":data[2]})\n",
    "                print(data[2])\n",
    "\n",
    "            if(len(V)==3):\n",
    "                bc.addNewBlock(V)\n",
    "                V=[]\n",
    "        else:\n",
    "            if(bool(V)):\n",
    "                bc.addNewBlock(V)\n",
    "                V=[]\n",
    "            break"
   ]
  },
  {
   "cell_type": "code",
   "execution_count": 13,
   "metadata": {
    "scrolled": false
   },
   "outputs": [
    {
     "name": "stdout",
     "output_type": "stream",
     "text": [
      "Press N to send new data, any other key to stop sending:n\n",
      "Enter Sender's id:1\n",
      "Enter Receiver's id:2\n",
      "Enter data to be sent:fthfh\n",
      "SUCCESSFUL\n",
      "\n",
      "Press N to send new data, any other key to stop sending:k\n"
     ]
    }
   ],
   "source": [
    "performTransactions(myChain,dList,invalidTxns)"
   ]
  },
  {
   "cell_type": "code",
   "execution_count": 14,
   "metadata": {
    "scrolled": false
   },
   "outputs": [
    {
     "name": "stdout",
     "output_type": "stream",
     "text": [
      "Block#: 0\n",
      "previous HASH: 0\n",
      "current HASH: 0000b7d691ee2b111d1b233f6e677c46938031ad\n",
      "\n",
      "Transactions: 1      Time: 2019-12-02 16:03:10.895364\n",
      "Sender: 0,  Receiver: 0,  Amount: 0\n",
      "Merkley Root: 7824a688fcd700968442056867e6082c6eb397b5\n",
      "\n",
      "NONCE: 181389\n",
      "----------------------------------------------------\n",
      "Block#: 1\n",
      "previous HASH: 0000b7d691ee2b111d1b233f6e677c46938031ad\n",
      "current HASH: 00003a15e0bb60f6202c797697b055419bc24c22\n",
      "\n",
      "Transactions: 1      Time: 2019-12-02 16:03:13.271704\n",
      "Sender: 1,  Receiver: 0,  Amount: 0\n",
      "Merkley Root: 57a87074178f47b130ec1c639a11db2a8a369d12\n",
      "\n",
      "NONCE: 86538\n",
      "----------------------------------------------------\n",
      "Block#: 2\n",
      "previous HASH: 00003a15e0bb60f6202c797697b055419bc24c22\n",
      "current HASH: 00003d8cbb74f7525c8d35d6d3cc0d66e9ae926f\n",
      "\n",
      "Transactions: 1      Time: 2019-12-02 16:03:14.642612\n",
      "Sender: 2,  Receiver: 0,  Amount: 0\n",
      "Merkley Root: 3bd647ab7ecd0f6a232307bd7d94a2dcfea48c59\n",
      "\n",
      "NONCE: 16807\n",
      "----------------------------------------------------\n",
      "Block#: 3\n",
      "previous HASH: 00003d8cbb74f7525c8d35d6d3cc0d66e9ae926f\n",
      "current HASH: 00002ddce1e80344e18a2cff0a72f618f9d9a9b4\n",
      "\n",
      "Transactions: 1      Time: 2019-12-02 16:03:31.434377\n",
      "Sender: 1,  Receiver: 2,  Amount: ef887966eee3c28f8417933591d8bbc4\n",
      "Merkley Root: c391150131eae342248682b2080c306601e97a6395d55cb61367989ccdf42754\n",
      "\n",
      "NONCE: 46971\n",
      "----------------------------------------------------\n"
     ]
    }
   ],
   "source": [
    "myChain.getChainDetails()"
   ]
  },
  {
   "cell_type": "markdown",
   "metadata": {},
   "source": [
    "### All valid txns"
   ]
  },
  {
   "cell_type": "code",
   "execution_count": 15,
   "metadata": {},
   "outputs": [
    {
     "name": "stdout",
     "output_type": "stream",
     "text": [
      "Txn-1 : Sender: 3fd1c72fbc242f8    Receiver: 3269f5c61949f35    Sign: 2cdf9eaf2a57f43    Amount: 0\n",
      "Txn-2 : Sender: 3dc3261eb437d42    Receiver: 3269f5c61949f35    Sign: 245edd043c73571    Amount: 0\n",
      "Txn-3 : Sender: 3fd1c72fbc242f8    Receiver: 3dc3261eb437d42    Sign: 76079dc0a1393dc    Amount: ef887966eee3c28\n"
     ]
    }
   ],
   "source": [
    "for k,v in myChain.allTxns.items():\n",
    "    print(k,\": Sender:\",v[\"Sender\"].address[:15], \"   Receiver:\",v[\"Receiver\"].address[:15],  \"   Sign:\",v[\"sign\"].hex()[:15],   \"   Amount:\",v['Amount'][:15]   )        "
   ]
  },
  {
   "cell_type": "code",
   "execution_count": 15,
   "metadata": {},
   "outputs": [
    {
     "name": "stdout",
     "output_type": "stream",
     "text": [
      "Receiver ID is not verified\n"
     ]
    }
   ],
   "source": [
    "intruder=device()\n",
    "\n",
    "sender=dList[0]   #Valid sender\n",
    "\n",
    "data=device.dataTransfer(sender,intruder,msg=\"switchOnTheLight\",dtKEY=dtKEY)"
   ]
  },
  {
   "cell_type": "code",
   "execution_count": 32,
   "metadata": {
    "scrolled": true
   },
   "outputs": [
    {
     "name": "stdout",
     "output_type": "stream",
     "text": [
      "[False, '6f7e7da4d2048507390941e3ba829e56', 'ReceiverNotVerified']\n"
     ]
    }
   ],
   "source": [
    "print(data)\n",
    "\n",
    "if(data[0]):\n",
    "    txnList.append({\"Sender\":sender,\"Receiver\":intruder,\"Amount\":data[1]})\n",
    "    print(\"SUCCESSFUL\\n\")\n",
    "else:\n",
    "    invalidTxns.append({\"Sender\":sender,\"Receiver\":intruder,\"Amount\":data[1],\"status\":data[2]})"
   ]
  },
  {
   "cell_type": "code",
   "execution_count": 33,
   "metadata": {
    "scrolled": true
   },
   "outputs": [
    {
     "name": "stdout",
     "output_type": "stream",
     "text": [
      "Sender: 02ed843201b28583a1f1   Receiver: ba53f383fe5430ebf9a1   Amount: 6f7e7da4d20485073909   status: ReceiverNotVerified\n",
      "Sender: 02ed843201b28583a1f1   Receiver: ba53f383fe5430ebf9a1   Amount: 6f7e7da4d20485073909   status: ReceiverNotVerified\n",
      "Sender: 02ed843201b28583a1f1   Receiver: ba53f383fe5430ebf9a1   Amount: 6f7e7da4d20485073909   status: ReceiverNotVerified\n"
     ]
    }
   ],
   "source": [
    "for T in invalidTxns:\n",
    "    try:\n",
    "#         print(k,\":\",v.address[:15],end=\"  \")\n",
    "        print(\"Sender:\",T[\"Sender\"].address[:20],   \"  Receiver:\",T[\"Receiver\"].address[:20],\n",
    "              \"  Amount:\",T[\"Amount\"][:20],    \"  status:\",T[\"status\"])\n",
    "    except:\n",
    "        print(\"Sender:\",T[\"Sender\"],   \"  Receiver:\",T[\"Receiver\"],\n",
    "              \"  Amount:\",T[\"Amount\"],    \"  status:\",T[\"status\"])"
   ]
  }
 ],
 "metadata": {
  "kernelspec": {
   "display_name": "Python 3",
   "language": "python",
   "name": "python3"
  },
  "language_info": {
   "codemirror_mode": {
    "name": "ipython",
    "version": 3
   },
   "file_extension": ".py",
   "mimetype": "text/x-python",
   "name": "python",
   "nbconvert_exporter": "python",
   "pygments_lexer": "ipython3",
   "version": "3.7.1"
  }
 },
 "nbformat": 4,
 "nbformat_minor": 2
}
